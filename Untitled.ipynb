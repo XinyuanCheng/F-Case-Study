{
 "cells": [
  {
   "cell_type": "code",
   "execution_count": 1,
   "id": "d33be49d",
   "metadata": {},
   "outputs": [],
   "source": [
    "import pandas as pd\n",
    "import snowflake.connector\n",
    "\n",
    "def load_data():\n",
    "    conn = snowflake.connector.connect(\n",
    "                user=\"XCHENG\",\n",
    "                password=\"19960302Cxy_\",\n",
    "                account=\"ke74435\",\n",
    "                warehouse=\"CASESTUDY_WH\",\n",
    "                database=\"CASESTUDY\",\n",
    "                schema=\"CASESTUDY_XINYUAN\"\n",
    "                )\n",
    "\n",
    "    cur = conn.cursor()\n",
    "\n",
    "    # Execute a statement that will generate a result set.\n",
    "    sql = '''\n",
    "    SELECT \"CASESTUDY\".\"CASESTUDY_XINYUAN\".\"actual_prices\".\"startTime\", \"actualValue\",\n",
    "    \"CASESTUDY\".\"CASESTUDY_XINYUAN\".\"our_forecast\".\"p50\" AS \"ourForecast\",\n",
    "    \"CASESTUDY\".\"CASESTUDY_XINYUAN\".\"their_forecast\".\"p50\" AS \"theirForecast\"\n",
    "    FROM \"CASESTUDY\".\"CASESTUDY_XINYUAN\".\"actual_prices\"\n",
    "    JOIN \"CASESTUDY\".\"CASESTUDY_XINYUAN\".\"our_forecast\" ON \"CASESTUDY\".\"CASESTUDY_XINYUAN\".\"actual_prices\".\"startTime\" = \"CASESTUDY\".\"CASESTUDY_XINYUAN\".\"our_forecast\".\"startTime\"\n",
    "    JOIN \"CASESTUDY\".\"CASESTUDY_XINYUAN\".\"their_forecast\" ON \"CASESTUDY\".\"CASESTUDY_XINYUAN\".\"actual_prices\".\"startTime\" = \"CASESTUDY\".\"CASESTUDY_XINYUAN\".\"their_forecast\".\"startTime\"\n",
    "    '''\n",
    "    cur.execute(sql)\n",
    "    # Fetch the result set from the cursor and deliver it as the Pandas \n",
    "    df = cur.fetch_pandas_all()\n",
    "    cur.close()\n",
    "    conn.close()\n",
    "    return df"
   ]
  },
  {
   "cell_type": "code",
   "execution_count": 2,
   "id": "d672e643",
   "metadata": {},
   "outputs": [],
   "source": [
    "df = load_data()"
   ]
  },
  {
   "cell_type": "code",
   "execution_count": 3,
   "id": "f2a1021d",
   "metadata": {},
   "outputs": [
    {
     "data": {
      "text/html": [
       "<div>\n",
       "<style scoped>\n",
       "    .dataframe tbody tr th:only-of-type {\n",
       "        vertical-align: middle;\n",
       "    }\n",
       "\n",
       "    .dataframe tbody tr th {\n",
       "        vertical-align: top;\n",
       "    }\n",
       "\n",
       "    .dataframe thead th {\n",
       "        text-align: right;\n",
       "    }\n",
       "</style>\n",
       "<table border=\"1\" class=\"dataframe\">\n",
       "  <thead>\n",
       "    <tr style=\"text-align: right;\">\n",
       "      <th></th>\n",
       "      <th>startTime</th>\n",
       "      <th>actualValue</th>\n",
       "      <th>ourForecast</th>\n",
       "      <th>theirForecast</th>\n",
       "    </tr>\n",
       "  </thead>\n",
       "  <tbody>\n",
       "    <tr>\n",
       "      <th>0</th>\n",
       "      <td>2019-11-30 18:00:00</td>\n",
       "      <td>0.020630</td>\n",
       "      <td>0.009782</td>\n",
       "      <td>0.009433</td>\n",
       "    </tr>\n",
       "    <tr>\n",
       "      <th>1</th>\n",
       "      <td>2019-11-30 18:05:00</td>\n",
       "      <td>0.026640</td>\n",
       "      <td>0.012259</td>\n",
       "      <td>0.021242</td>\n",
       "    </tr>\n",
       "    <tr>\n",
       "      <th>2</th>\n",
       "      <td>2019-11-30 18:10:00</td>\n",
       "      <td>0.022711</td>\n",
       "      <td>0.010428</td>\n",
       "      <td>0.021242</td>\n",
       "    </tr>\n",
       "    <tr>\n",
       "      <th>3</th>\n",
       "      <td>2019-11-30 18:15:00</td>\n",
       "      <td>0.009409</td>\n",
       "      <td>0.021179</td>\n",
       "      <td>0.021242</td>\n",
       "    </tr>\n",
       "    <tr>\n",
       "      <th>4</th>\n",
       "      <td>2019-11-30 18:20:00</td>\n",
       "      <td>0.009554</td>\n",
       "      <td>0.021814</td>\n",
       "      <td>0.021242</td>\n",
       "    </tr>\n",
       "  </tbody>\n",
       "</table>\n",
       "</div>"
      ],
      "text/plain": [
       "            startTime  actualValue  ourForecast  theirForecast\n",
       "0 2019-11-30 18:00:00     0.020630     0.009782       0.009433\n",
       "1 2019-11-30 18:05:00     0.026640     0.012259       0.021242\n",
       "2 2019-11-30 18:10:00     0.022711     0.010428       0.021242\n",
       "3 2019-11-30 18:15:00     0.009409     0.021179       0.021242\n",
       "4 2019-11-30 18:20:00     0.009554     0.021814       0.021242"
      ]
     },
     "execution_count": 3,
     "metadata": {},
     "output_type": "execute_result"
    }
   ],
   "source": [
    "df.head()"
   ]
  },
  {
   "cell_type": "code",
   "execution_count": 4,
   "id": "e5ab4d55",
   "metadata": {},
   "outputs": [
    {
     "data": {
      "text/plain": [
       "0       2019-11-30 18:00:00\n",
       "1       2019-11-30 18:05:00\n",
       "2       2019-11-30 18:10:00\n",
       "3       2019-11-30 18:15:00\n",
       "4       2019-11-30 18:20:00\n",
       "                ...        \n",
       "53059   2019-09-30 17:35:00\n",
       "53060   2019-09-30 17:40:00\n",
       "53061   2019-09-30 17:45:00\n",
       "53062   2019-09-30 17:50:00\n",
       "53063   2019-09-30 17:55:00\n",
       "Name: startTime, Length: 53064, dtype: datetime64[ns]"
      ]
     },
     "execution_count": 4,
     "metadata": {},
     "output_type": "execute_result"
    }
   ],
   "source": [
    "df['startTime']"
   ]
  },
  {
   "cell_type": "code",
   "execution_count": 5,
   "id": "8b21f4ec",
   "metadata": {},
   "outputs": [
    {
     "data": {
      "text/plain": [
       "datetime.datetime(2019, 6, 30, 18, 0)"
      ]
     },
     "execution_count": 5,
     "metadata": {},
     "output_type": "execute_result"
    }
   ],
   "source": [
    "df['startTime'].min().to_pydatetime()"
   ]
  },
  {
   "cell_type": "code",
   "execution_count": 30,
   "id": "26cbeb5f",
   "metadata": {},
   "outputs": [
    {
     "data": {
      "text/plain": [
       "Timestamp('2019-06-30 18:00:00')"
      ]
     },
     "execution_count": 30,
     "metadata": {},
     "output_type": "execute_result"
    }
   ],
   "source": [
    "df['startTime'].min()"
   ]
  },
  {
   "cell_type": "code",
   "execution_count": 18,
   "id": "72621858",
   "metadata": {},
   "outputs": [
    {
     "data": {
      "text/html": [
       "<div>\n",
       "<style scoped>\n",
       "    .dataframe tbody tr th:only-of-type {\n",
       "        vertical-align: middle;\n",
       "    }\n",
       "\n",
       "    .dataframe tbody tr th {\n",
       "        vertical-align: top;\n",
       "    }\n",
       "\n",
       "    .dataframe thead th {\n",
       "        text-align: right;\n",
       "    }\n",
       "</style>\n",
       "<table border=\"1\" class=\"dataframe\">\n",
       "  <thead>\n",
       "    <tr style=\"text-align: right;\">\n",
       "      <th></th>\n",
       "      <th>startTime</th>\n",
       "      <th>actualValue</th>\n",
       "      <th>ourForecast</th>\n",
       "      <th>theirForecast</th>\n",
       "    </tr>\n",
       "  </thead>\n",
       "  <tbody>\n",
       "    <tr>\n",
       "      <th>50184</th>\n",
       "      <td>2019-09-20 18:00:00</td>\n",
       "      <td>0.066463</td>\n",
       "      <td>0.060503</td>\n",
       "      <td>0.059021</td>\n",
       "    </tr>\n",
       "  </tbody>\n",
       "</table>\n",
       "</div>"
      ],
      "text/plain": [
       "                startTime  actualValue  ourForecast  theirForecast\n",
       "50184 2019-09-20 18:00:00     0.066463     0.060503       0.059021"
      ]
     },
     "execution_count": 18,
     "metadata": {},
     "output_type": "execute_result"
    }
   ],
   "source": [
    "df[df['startTime']=='2019-09-20 18:00:00']"
   ]
  },
  {
   "cell_type": "code",
   "execution_count": 19,
   "id": "3ed6635e",
   "metadata": {},
   "outputs": [
    {
     "data": {
      "text/html": [
       "<div>\n",
       "<style scoped>\n",
       "    .dataframe tbody tr th:only-of-type {\n",
       "        vertical-align: middle;\n",
       "    }\n",
       "\n",
       "    .dataframe tbody tr th {\n",
       "        vertical-align: top;\n",
       "    }\n",
       "\n",
       "    .dataframe thead th {\n",
       "        text-align: right;\n",
       "    }\n",
       "</style>\n",
       "<table border=\"1\" class=\"dataframe\">\n",
       "  <thead>\n",
       "    <tr style=\"text-align: right;\">\n",
       "      <th></th>\n",
       "      <th>startTime</th>\n",
       "      <th>actualValue</th>\n",
       "      <th>ourForecast</th>\n",
       "      <th>theirForecast</th>\n",
       "    </tr>\n",
       "  </thead>\n",
       "  <tbody>\n",
       "    <tr>\n",
       "      <th>35496</th>\n",
       "      <td>2019-06-30 18:00:00</td>\n",
       "      <td>1.617226e-02</td>\n",
       "      <td>0.015052</td>\n",
       "      <td>0.015087</td>\n",
       "    </tr>\n",
       "    <tr>\n",
       "      <th>35497</th>\n",
       "      <td>2019-06-30 18:05:00</td>\n",
       "      <td>1.549250e-02</td>\n",
       "      <td>0.015140</td>\n",
       "      <td>0.015292</td>\n",
       "    </tr>\n",
       "    <tr>\n",
       "      <th>35498</th>\n",
       "      <td>2019-06-30 18:10:00</td>\n",
       "      <td>1.550504e-02</td>\n",
       "      <td>0.015087</td>\n",
       "      <td>0.015292</td>\n",
       "    </tr>\n",
       "    <tr>\n",
       "      <th>35499</th>\n",
       "      <td>2019-06-30 18:15:00</td>\n",
       "      <td>1.469461e-02</td>\n",
       "      <td>0.014720</td>\n",
       "      <td>0.015292</td>\n",
       "    </tr>\n",
       "    <tr>\n",
       "      <th>35500</th>\n",
       "      <td>2019-06-30 18:20:00</td>\n",
       "      <td>1.121339e-02</td>\n",
       "      <td>0.014742</td>\n",
       "      <td>0.015292</td>\n",
       "    </tr>\n",
       "    <tr>\n",
       "      <th>...</th>\n",
       "      <td>...</td>\n",
       "      <td>...</td>\n",
       "      <td>...</td>\n",
       "      <td>...</td>\n",
       "    </tr>\n",
       "    <tr>\n",
       "      <th>35491</th>\n",
       "      <td>2019-12-31 23:35:00</td>\n",
       "      <td>3.375579e-02</td>\n",
       "      <td>0.024174</td>\n",
       "      <td>0.031142</td>\n",
       "    </tr>\n",
       "    <tr>\n",
       "      <th>35492</th>\n",
       "      <td>2019-12-31 23:40:00</td>\n",
       "      <td>3.358780e-02</td>\n",
       "      <td>0.013643</td>\n",
       "      <td>0.031142</td>\n",
       "    </tr>\n",
       "    <tr>\n",
       "      <th>35493</th>\n",
       "      <td>2019-12-31 23:45:00</td>\n",
       "      <td>1.400000e-07</td>\n",
       "      <td>0.014110</td>\n",
       "      <td>0.031142</td>\n",
       "    </tr>\n",
       "    <tr>\n",
       "      <th>35494</th>\n",
       "      <td>2019-12-31 23:50:00</td>\n",
       "      <td>3.400000e-07</td>\n",
       "      <td>0.014251</td>\n",
       "      <td>0.031142</td>\n",
       "    </tr>\n",
       "    <tr>\n",
       "      <th>35495</th>\n",
       "      <td>2019-12-31 23:55:00</td>\n",
       "      <td>6.015500e-04</td>\n",
       "      <td>0.012227</td>\n",
       "      <td>0.031142</td>\n",
       "    </tr>\n",
       "  </tbody>\n",
       "</table>\n",
       "<p>53064 rows × 4 columns</p>\n",
       "</div>"
      ],
      "text/plain": [
       "                startTime   actualValue  ourForecast  theirForecast\n",
       "35496 2019-06-30 18:00:00  1.617226e-02     0.015052       0.015087\n",
       "35497 2019-06-30 18:05:00  1.549250e-02     0.015140       0.015292\n",
       "35498 2019-06-30 18:10:00  1.550504e-02     0.015087       0.015292\n",
       "35499 2019-06-30 18:15:00  1.469461e-02     0.014720       0.015292\n",
       "35500 2019-06-30 18:20:00  1.121339e-02     0.014742       0.015292\n",
       "...                   ...           ...          ...            ...\n",
       "35491 2019-12-31 23:35:00  3.375579e-02     0.024174       0.031142\n",
       "35492 2019-12-31 23:40:00  3.358780e-02     0.013643       0.031142\n",
       "35493 2019-12-31 23:45:00  1.400000e-07     0.014110       0.031142\n",
       "35494 2019-12-31 23:50:00  3.400000e-07     0.014251       0.031142\n",
       "35495 2019-12-31 23:55:00  6.015500e-04     0.012227       0.031142\n",
       "\n",
       "[53064 rows x 4 columns]"
      ]
     },
     "execution_count": 19,
     "metadata": {},
     "output_type": "execute_result"
    }
   ],
   "source": [
    "df.sort_values('startTime')"
   ]
  },
  {
   "cell_type": "code",
   "execution_count": 31,
   "id": "482d2f3a",
   "metadata": {},
   "outputs": [
    {
     "ename": "SyntaxError",
     "evalue": "invalid syntax (<ipython-input-31-c137e42dfdfc>, line 1)",
     "output_type": "error",
     "traceback": [
      "\u001b[0;36m  File \u001b[0;32m\"<ipython-input-31-c137e42dfdfc>\"\u001b[0;36m, line \u001b[0;32m1\u001b[0m\n\u001b[0;31m    df[df['startTime']<='2019-10-21 00:00:00'&&df['startTime']>='2019-09-11 00:00:00']\u001b[0m\n\u001b[0m                                              ^\u001b[0m\n\u001b[0;31mSyntaxError\u001b[0m\u001b[0;31m:\u001b[0m invalid syntax\n"
     ]
    }
   ],
   "source": [
    "df[df['startTime']<='2019-10-21 00:00:00'&& df['startTime']>='2019-09-11 00:00:00']"
   ]
  },
  {
   "cell_type": "code",
   "execution_count": 33,
   "id": "69a22cb1",
   "metadata": {},
   "outputs": [
    {
     "data": {
      "text/html": [
       "<div>\n",
       "<style scoped>\n",
       "    .dataframe tbody tr th:only-of-type {\n",
       "        vertical-align: middle;\n",
       "    }\n",
       "\n",
       "    .dataframe tbody tr th {\n",
       "        vertical-align: top;\n",
       "    }\n",
       "\n",
       "    .dataframe thead th {\n",
       "        text-align: right;\n",
       "    }\n",
       "</style>\n",
       "<table border=\"1\" class=\"dataframe\">\n",
       "  <thead>\n",
       "    <tr style=\"text-align: right;\">\n",
       "      <th></th>\n",
       "      <th>startTime</th>\n",
       "      <th>actualValue</th>\n",
       "      <th>ourForecast</th>\n",
       "      <th>theirForecast</th>\n",
       "    </tr>\n",
       "  </thead>\n",
       "  <tbody>\n",
       "    <tr>\n",
       "      <th>8928</th>\n",
       "      <td>2019-07-31 18:00:00</td>\n",
       "      <td>0.070078</td>\n",
       "      <td>0.063081</td>\n",
       "      <td>0.091285</td>\n",
       "    </tr>\n",
       "    <tr>\n",
       "      <th>8929</th>\n",
       "      <td>2019-07-31 18:05:00</td>\n",
       "      <td>0.077490</td>\n",
       "      <td>0.065452</td>\n",
       "      <td>0.073226</td>\n",
       "    </tr>\n",
       "    <tr>\n",
       "      <th>8930</th>\n",
       "      <td>2019-07-31 18:10:00</td>\n",
       "      <td>0.071610</td>\n",
       "      <td>0.072478</td>\n",
       "      <td>0.073226</td>\n",
       "    </tr>\n",
       "    <tr>\n",
       "      <th>8931</th>\n",
       "      <td>2019-07-31 18:15:00</td>\n",
       "      <td>0.077490</td>\n",
       "      <td>0.072828</td>\n",
       "      <td>0.073226</td>\n",
       "    </tr>\n",
       "    <tr>\n",
       "      <th>8932</th>\n",
       "      <td>2019-07-31 18:20:00</td>\n",
       "      <td>0.077490</td>\n",
       "      <td>0.072698</td>\n",
       "      <td>0.073226</td>\n",
       "    </tr>\n",
       "    <tr>\n",
       "      <th>...</th>\n",
       "      <td>...</td>\n",
       "      <td>...</td>\n",
       "      <td>...</td>\n",
       "      <td>...</td>\n",
       "    </tr>\n",
       "    <tr>\n",
       "      <th>53059</th>\n",
       "      <td>2019-09-30 17:35:00</td>\n",
       "      <td>0.072354</td>\n",
       "      <td>0.083131</td>\n",
       "      <td>0.071708</td>\n",
       "    </tr>\n",
       "    <tr>\n",
       "      <th>53060</th>\n",
       "      <td>2019-09-30 17:40:00</td>\n",
       "      <td>0.067218</td>\n",
       "      <td>0.067261</td>\n",
       "      <td>0.071708</td>\n",
       "    </tr>\n",
       "    <tr>\n",
       "      <th>53061</th>\n",
       "      <td>2019-09-30 17:45:00</td>\n",
       "      <td>0.067787</td>\n",
       "      <td>0.068573</td>\n",
       "      <td>0.071708</td>\n",
       "    </tr>\n",
       "    <tr>\n",
       "      <th>53062</th>\n",
       "      <td>2019-09-30 17:50:00</td>\n",
       "      <td>0.067778</td>\n",
       "      <td>0.067875</td>\n",
       "      <td>0.071708</td>\n",
       "    </tr>\n",
       "    <tr>\n",
       "      <th>53063</th>\n",
       "      <td>2019-09-30 17:55:00</td>\n",
       "      <td>0.069386</td>\n",
       "      <td>0.068955</td>\n",
       "      <td>0.071708</td>\n",
       "    </tr>\n",
       "  </tbody>\n",
       "</table>\n",
       "<p>32329 rows × 4 columns</p>\n",
       "</div>"
      ],
      "text/plain": [
       "                startTime  actualValue  ourForecast  theirForecast\n",
       "8928  2019-07-31 18:00:00     0.070078     0.063081       0.091285\n",
       "8929  2019-07-31 18:05:00     0.077490     0.065452       0.073226\n",
       "8930  2019-07-31 18:10:00     0.071610     0.072478       0.073226\n",
       "8931  2019-07-31 18:15:00     0.077490     0.072828       0.073226\n",
       "8932  2019-07-31 18:20:00     0.077490     0.072698       0.073226\n",
       "...                   ...          ...          ...            ...\n",
       "53059 2019-09-30 17:35:00     0.072354     0.083131       0.071708\n",
       "53060 2019-09-30 17:40:00     0.067218     0.067261       0.071708\n",
       "53061 2019-09-30 17:45:00     0.067787     0.068573       0.071708\n",
       "53062 2019-09-30 17:50:00     0.067778     0.067875       0.071708\n",
       "53063 2019-09-30 17:55:00     0.069386     0.068955       0.071708\n",
       "\n",
       "[32329 rows x 4 columns]"
      ]
     },
     "execution_count": 33,
     "metadata": {},
     "output_type": "execute_result"
    }
   ],
   "source": [
    "df[df['startTime']<='2019-10-21 00:00:00']"
   ]
  },
  {
   "cell_type": "code",
   "execution_count": 34,
   "id": "ecd10968",
   "metadata": {},
   "outputs": [],
   "source": [
    "from pandas.tseries.holiday import USFederalHolidayCalendar as calendar"
   ]
  },
  {
   "cell_type": "code",
   "execution_count": 36,
   "id": "d279af7f",
   "metadata": {},
   "outputs": [],
   "source": [
    "cal = calendar()\n",
    "holidays = cal.holidays(start=df['startTime'].min(), end=df['startTime'].max())"
   ]
  },
  {
   "cell_type": "code",
   "execution_count": 38,
   "id": "263dc6c8",
   "metadata": {},
   "outputs": [
    {
     "data": {
      "text/plain": [
       "6"
      ]
     },
     "execution_count": 38,
     "metadata": {},
     "output_type": "execute_result"
    }
   ],
   "source": [
    "df['startTime'].isin(holidays).sum()"
   ]
  },
  {
   "cell_type": "code",
   "execution_count": 43,
   "id": "e37fb97b",
   "metadata": {},
   "outputs": [
    {
     "ename": "SyntaxError",
     "evalue": "invalid syntax (<ipython-input-43-100dbc174e90>, line 1)",
     "output_type": "error",
     "traceback": [
      "\u001b[0;36m  File \u001b[0;32m\"<ipython-input-43-100dbc174e90>\"\u001b[0;36m, line \u001b[0;32m1\u001b[0m\n\u001b[0;31m    chart_data = pd.DataFrame('Our Forecast': 1, 'Their Forecast': 2)\u001b[0m\n\u001b[0m                                            ^\u001b[0m\n\u001b[0;31mSyntaxError\u001b[0m\u001b[0;31m:\u001b[0m invalid syntax\n"
     ]
    }
   ],
   "source": [
    "chart_data = pd.DataFrame('Our Forecast': 1, 'Their Forecast': 2)"
   ]
  },
  {
   "cell_type": "code",
   "execution_count": 58,
   "id": "d17200d4",
   "metadata": {},
   "outputs": [
    {
     "data": {
      "text/plain": [
       "0        5\n",
       "1        5\n",
       "2        5\n",
       "3        5\n",
       "4        5\n",
       "        ..\n",
       "53059    0\n",
       "53060    0\n",
       "53061    0\n",
       "53062    0\n",
       "53063    0\n",
       "Name: startTime, Length: 53064, dtype: int64"
      ]
     },
     "execution_count": 58,
     "metadata": {},
     "output_type": "execute_result"
    }
   ],
   "source": [
    "df['startTime'].dt.dayofweek"
   ]
  },
  {
   "cell_type": "code",
   "execution_count": 57,
   "id": "0899985e",
   "metadata": {},
   "outputs": [
    {
     "ename": "AttributeError",
     "evalue": "'Series' object has no attribute 'weekday'",
     "output_type": "error",
     "traceback": [
      "\u001b[0;31m---------------------------------------------------------------------------\u001b[0m",
      "\u001b[0;31mAttributeError\u001b[0m                            Traceback (most recent call last)",
      "\u001b[0;32m<ipython-input-57-e9691a6cb3ec>\u001b[0m in \u001b[0;36m<module>\u001b[0;34m\u001b[0m\n\u001b[0;32m----> 1\u001b[0;31m \u001b[0mpd\u001b[0m\u001b[0;34m.\u001b[0m\u001b[0mto_datetime\u001b[0m\u001b[0;34m(\u001b[0m\u001b[0mdf\u001b[0m\u001b[0;34m[\u001b[0m\u001b[0;34m'startTime'\u001b[0m\u001b[0;34m]\u001b[0m\u001b[0;34m)\u001b[0m\u001b[0;34m.\u001b[0m\u001b[0mweekday\u001b[0m\u001b[0;34m(\u001b[0m\u001b[0;34m)\u001b[0m\u001b[0;34m\u001b[0m\u001b[0;34m\u001b[0m\u001b[0m\n\u001b[0m",
      "\u001b[0;32m/opt/anaconda3/lib/python3.8/site-packages/pandas/core/generic.py\u001b[0m in \u001b[0;36m__getattr__\u001b[0;34m(self, name)\u001b[0m\n\u001b[1;32m   5476\u001b[0m         ):\n\u001b[1;32m   5477\u001b[0m             \u001b[0;32mreturn\u001b[0m \u001b[0mself\u001b[0m\u001b[0;34m[\u001b[0m\u001b[0mname\u001b[0m\u001b[0;34m]\u001b[0m\u001b[0;34m\u001b[0m\u001b[0;34m\u001b[0m\u001b[0m\n\u001b[0;32m-> 5478\u001b[0;31m         \u001b[0;32mreturn\u001b[0m \u001b[0mobject\u001b[0m\u001b[0;34m.\u001b[0m\u001b[0m__getattribute__\u001b[0m\u001b[0;34m(\u001b[0m\u001b[0mself\u001b[0m\u001b[0;34m,\u001b[0m \u001b[0mname\u001b[0m\u001b[0;34m)\u001b[0m\u001b[0;34m\u001b[0m\u001b[0;34m\u001b[0m\u001b[0m\n\u001b[0m\u001b[1;32m   5479\u001b[0m \u001b[0;34m\u001b[0m\u001b[0m\n\u001b[1;32m   5480\u001b[0m     \u001b[0;32mdef\u001b[0m \u001b[0m__setattr__\u001b[0m\u001b[0;34m(\u001b[0m\u001b[0mself\u001b[0m\u001b[0;34m,\u001b[0m \u001b[0mname\u001b[0m\u001b[0;34m:\u001b[0m \u001b[0mstr\u001b[0m\u001b[0;34m,\u001b[0m \u001b[0mvalue\u001b[0m\u001b[0;34m)\u001b[0m \u001b[0;34m->\u001b[0m \u001b[0;32mNone\u001b[0m\u001b[0;34m:\u001b[0m\u001b[0;34m\u001b[0m\u001b[0;34m\u001b[0m\u001b[0m\n",
      "\u001b[0;31mAttributeError\u001b[0m: 'Series' object has no attribute 'weekday'"
     ]
    }
   ],
   "source": [
    "pd.to_datetime(df['startTime']).weekday()"
   ]
  },
  {
   "cell_type": "code",
   "execution_count": 6,
   "id": "913112de",
   "metadata": {},
   "outputs": [],
   "source": [
    "import datetime as dt"
   ]
  },
  {
   "cell_type": "code",
   "execution_count": 7,
   "id": "39d7494a",
   "metadata": {},
   "outputs": [
    {
     "ename": "TypeError",
     "evalue": "'module' object is not callable",
     "output_type": "error",
     "traceback": [
      "\u001b[0;31m---------------------------------------------------------------------------\u001b[0m",
      "\u001b[0;31mTypeError\u001b[0m                                 Traceback (most recent call last)",
      "\u001b[0;32m<ipython-input-7-7bd4e159c7cb>\u001b[0m in \u001b[0;36m<module>\u001b[0;34m\u001b[0m\n\u001b[0;32m----> 1\u001b[0;31m \u001b[0mdt\u001b[0m\u001b[0;34m(\u001b[0m\u001b[0mdf\u001b[0m\u001b[0;34m[\u001b[0m\u001b[0;34m'startTime'\u001b[0m\u001b[0;34m]\u001b[0m\u001b[0;34m.\u001b[0m\u001b[0mmin\u001b[0m\u001b[0;34m(\u001b[0m\u001b[0;34m)\u001b[0m\u001b[0;34m.\u001b[0m\u001b[0mto_pydatetime\u001b[0m\u001b[0;34m(\u001b[0m\u001b[0;34m)\u001b[0m\u001b[0;34m)\u001b[0m\u001b[0;34m\u001b[0m\u001b[0;34m\u001b[0m\u001b[0m\n\u001b[0m",
      "\u001b[0;31mTypeError\u001b[0m: 'module' object is not callable"
     ]
    }
   ],
   "source": [
    "dt(df['startTime'].min().to_pydatetime())"
   ]
  },
  {
   "cell_type": "code",
   "execution_count": null,
   "id": "d96573ae",
   "metadata": {},
   "outputs": [],
   "source": []
  }
 ],
 "metadata": {
  "kernelspec": {
   "display_name": "Python 3",
   "language": "python",
   "name": "python3"
  },
  "language_info": {
   "codemirror_mode": {
    "name": "ipython",
    "version": 3
   },
   "file_extension": ".py",
   "mimetype": "text/x-python",
   "name": "python",
   "nbconvert_exporter": "python",
   "pygments_lexer": "ipython3",
   "version": "3.8.10"
  }
 },
 "nbformat": 4,
 "nbformat_minor": 5
}
